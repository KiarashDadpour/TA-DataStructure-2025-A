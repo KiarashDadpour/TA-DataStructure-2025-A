{
 "cells": [
  {
   "cell_type": "code",
   "execution_count": 1,
   "metadata": {},
   "outputs": [],
   "source": [
    "class Node:\n",
    "\n",
    "    def __init__(self, info=None, next=None):\n",
    "        self.info = info\n",
    "        self.next = next\n",
    "\n",
    "    def get_info(self):\n",
    "        return self.info\n",
    "\n",
    "    def set_info(self, value):\n",
    "        self.info = value\n",
    "\n",
    "    def get_next(self):\n",
    "        return self.next\n",
    "\n",
    "    def set_next(self, ptr):\n",
    "        self.next = ptr\n",
    "\n",
    "    def __str__(self):\n",
    "        return str(self.info)"
   ]
  },
  {
   "cell_type": "code",
   "execution_count": 2,
   "metadata": {},
   "outputs": [],
   "source": [
    "a = Node(\"A\")\n",
    "b = Node(\"B\")\n",
    "c = Node(\"C\") \n",
    "d = Node(\"D\")\n",
    "e = Node(\"E\")\n",
    "f = Node(\"F\")"
   ]
  },
  {
   "cell_type": "code",
   "execution_count": 3,
   "metadata": {},
   "outputs": [],
   "source": [
    "a.set_next(b)\n",
    "b.set_next(c) \n",
    "c.set_next(d)\n",
    "d.set_next(e)\n",
    "e.set_next(f)\n",
    "f.set_next(a)"
   ]
  },
  {
   "cell_type": "code",
   "execution_count": 4,
   "metadata": {},
   "outputs": [
    {
     "name": "stdout",
     "output_type": "stream",
     "text": [
      "B\n"
     ]
    }
   ],
   "source": [
    "print(a .get_next())"
   ]
  },
  {
   "cell_type": "code",
   "execution_count": 5,
   "metadata": {},
   "outputs": [],
   "source": [
    "class CircularLinkedList:\n",
    "    def __init__(self):\n",
    "        self.head = None\n",
    "        self.tail = None\n",
    "\n",
    "    def is_empty(self):\n",
    "        return self.head is None\n",
    "\n",
    "    def traversal(self):\n",
    "        if self.is_empty():\n",
    "            return \"Empty List!!!\"\n",
    "        current = self.head\n",
    "        while current:\n",
    "            print(current.get_info(),end=\"  \")\n",
    "            if current.next == self.head:\n",
    "                return\n",
    "            current = current.next \n",
    "        print()\n",
    "            \n",
    "\n",
    "    def search_node(self, value):\n",
    "        if self.is_empty():\n",
    "            return \"Empty List!!!\"\n",
    "        current = self.head\n",
    "        while True:\n",
    "            if current.info == value:\n",
    "                return current\n",
    "            current = current.next\n",
    "            if current == self.head:\n",
    "                break\n",
    "        return None\n",
    "\n",
    "    def insert_head(self, new: Node):\n",
    "        if self.is_empty():\n",
    "            self.head = new\n",
    "            self.tail = new\n",
    "            new.next = self.head  \n",
    "        else:\n",
    "            new.next = self.head\n",
    "            self.head = new\n",
    "            self.tail.next = self.head\n",
    "\n",
    "    def insert_tail(self, new: Node):\n",
    "        if self.is_empty():\n",
    "            self.head = new\n",
    "            self.tail = new\n",
    "            new.next = self.head  \n",
    "        else:\n",
    "            self.tail.next = new\n",
    "            self.tail = new\n",
    "            self.tail.next = self.head\n",
    "\n",
    "    def insert_after_node(self, new: Node, after: Node):\n",
    "        if self.is_empty():\n",
    "            self.head = new\n",
    "        else:\n",
    "            current = self.head\n",
    "            while current:\n",
    "                if current.info == after.info:\n",
    "                    new.next = current.next\n",
    "                    current.next = new\n",
    "                    return True\n",
    "                current = current.next  \n",
    "\n",
    "    def delete_head(self):\n",
    "        if self.is_empty():\n",
    "            return \"Empty List!!!\"\n",
    "        elif self.head == self.tail: \n",
    "            self.head = self.tail = None\n",
    "        else:\n",
    "            current = self.head \n",
    "            self.head = self.head.next\n",
    "            self.tail.next = self.head.get_next()\n",
    "            current.next = None\n",
    "            return"
   ]
  },
  {
   "cell_type": "code",
   "execution_count": 6,
   "metadata": {},
   "outputs": [],
   "source": [
    "L = CircularLinkedList()\n",
    "L.head = a\n",
    "L.tail = f"
   ]
  },
  {
   "cell_type": "code",
   "execution_count": 7,
   "metadata": {},
   "outputs": [
    {
     "name": "stdout",
     "output_type": "stream",
     "text": [
      "A  B  C  D  E  F  "
     ]
    }
   ],
   "source": [
    "L.traversal()\n"
   ]
  },
  {
   "cell_type": "code",
   "execution_count": 8,
   "metadata": {},
   "outputs": [
    {
     "data": {
      "text/plain": [
       "__main__.Node"
      ]
     },
     "execution_count": 8,
     "metadata": {},
     "output_type": "execute_result"
    }
   ],
   "source": [
    "wanted = L.search_node(\"C\")\n",
    "type(wanted) "
   ]
  },
  {
   "cell_type": "code",
   "execution_count": 9,
   "metadata": {},
   "outputs": [
    {
     "name": "stdout",
     "output_type": "stream",
     "text": [
      "A  B  C  D  E  F  "
     ]
    }
   ],
   "source": [
    "L.traversal()\n",
    "# x = Node(\"X\")\n",
    "# L.insert_tail(x)\n",
    "# L.traversal()\n",
    "# print(L.tail)"
   ]
  },
  {
   "cell_type": "code",
   "execution_count": 10,
   "metadata": {},
   "outputs": [
    {
     "name": "stdout",
     "output_type": "stream",
     "text": [
      "A  B  C  D  E  F  "
     ]
    }
   ],
   "source": [
    "L.traversal()\n",
    "# print()\n",
    "# x = Node(\"X\")\n",
    "# L.insert_head(x)\n",
    "# L.traversal()\n",
    "# print()\n",
    "# print(L.head)"
   ]
  },
  {
   "cell_type": "code",
   "execution_count": 11,
   "metadata": {},
   "outputs": [
    {
     "name": "stdout",
     "output_type": "stream",
     "text": [
      "A  B  C  D  E  F  "
     ]
    }
   ],
   "source": [
    "L.traversal()\n",
    "# print()\n",
    "# x = Node(\"X\")\n",
    "# L.insert_after_node(x, d)\n",
    "# print()\n",
    "# L.traversal()\n"
   ]
  },
  {
   "cell_type": "code",
   "execution_count": 12,
   "metadata": {},
   "outputs": [
    {
     "name": "stdout",
     "output_type": "stream",
     "text": [
      "A  B  C  D  E  F  "
     ]
    }
   ],
   "source": [
    "L.traversal()\n",
    "# L.delete_head()\n",
    "# print(L.traversal())"
   ]
  },
  {
   "cell_type": "code",
   "execution_count": 13,
   "metadata": {},
   "outputs": [
    {
     "name": "stdout",
     "output_type": "stream",
     "text": [
      "A  B  C  D  E  F  "
     ]
    }
   ],
   "source": [
    "L.traversal()\n",
    "# L.delete_head()\n",
    "# print(L.traversal())"
   ]
  },
  {
   "cell_type": "code",
   "execution_count": null,
   "metadata": {},
   "outputs": [],
   "source": []
  }
 ],
 "metadata": {
  "kernelspec": {
   "display_name": "Python 3",
   "language": "python",
   "name": "python3"
  },
  "language_info": {
   "codemirror_mode": {
    "name": "ipython",
    "version": 3
   },
   "file_extension": ".py",
   "mimetype": "text/x-python",
   "name": "python",
   "nbconvert_exporter": "python",
   "pygments_lexer": "ipython3",
   "version": "3.13.1"
  }
 },
 "nbformat": 4,
 "nbformat_minor": 2
}
