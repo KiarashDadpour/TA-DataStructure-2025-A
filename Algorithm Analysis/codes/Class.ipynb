{
 "cells": [
  {
   "cell_type": "code",
   "execution_count": 1,
   "id": "d0e547eb",
   "metadata": {},
   "outputs": [],
   "source": [
    "import random\n",
    "def generate_list(n = 20):\n",
    "    arr = []\n",
    "    for _ in range(n):\n",
    "        arr.append((random.randint(0, 5)))\n",
    "    return arr"
   ]
  },
  {
   "cell_type": "code",
   "execution_count": 2,
   "id": "93b358b2",
   "metadata": {},
   "outputs": [
    {
     "data": {
      "text/plain": [
       "[1, 5, 0, 1, 5, 4, 0, 0, 5, 5, 1, 2, 5, 5, 1, 3, 2, 2, 1, 5]"
      ]
     },
     "execution_count": 2,
     "metadata": {},
     "output_type": "execute_result"
    }
   ],
   "source": [
    "A = generate_list()\n",
    "A"
   ]
  },
  {
   "cell_type": "markdown",
   "id": "1db3200d",
   "metadata": {},
   "source": [
    "<div style=\"text-align: center; font-size: 43px;\">\n",
    "  Bubble Sort\n",
    "\n",
    "</div>\n"
   ]
  },
  {
   "cell_type": "code",
   "execution_count": 3,
   "id": "379ecf98",
   "metadata": {},
   "outputs": [],
   "source": [
    "def bubble_sort(A):\n",
    "    n = len(A)\n",
    "    for i in range(n):\n",
    "        for j in range(0, n - i - 1):\n",
    "            if A[j] > A[j + 1]:\n",
    "                A[j], A[j + 1] = A[j + 1], A[j]\n",
    "    return A"
   ]
  },
  {
   "cell_type": "code",
   "execution_count": 4,
   "id": "f4579c47",
   "metadata": {},
   "outputs": [
    {
     "data": {
      "text/plain": [
       "[0, 1, 1, 2, 2, 2, 3, 4, 6, 6, 6, 7, 8, 9, 10]"
      ]
     },
     "execution_count": 4,
     "metadata": {},
     "output_type": "execute_result"
    }
   ],
   "source": [
    "A = [1, 6, 9, 6, 1, 2, 7, 8, 10, 6, 2, 0, 3, 4, 2]\n",
    "bubble_sort(A)"
   ]
  },
  {
   "cell_type": "code",
   "execution_count": null,
   "id": "dfae747f",
   "metadata": {},
   "outputs": [],
   "source": []
  },
  {
   "cell_type": "markdown",
   "id": "c7e4e6ff",
   "metadata": {},
   "source": [
    "<div style=\"text-align: center; font-size: 43px;\">\n",
    "  Insertion Sort\n",
    "\n",
    "</div>\n"
   ]
  },
  {
   "cell_type": "code",
   "execution_count": 5,
   "id": "3ef3a864",
   "metadata": {},
   "outputs": [],
   "source": [
    "def insertion_sort(A):\n",
    "    n = len(A)\n",
    "    for i in range(1, n):\n",
    "        key = A[i]\n",
    "        j = i - 1\n",
    "        while j >= 0 and key < A[j]:\n",
    "            A[j + 1] = A[j]\n",
    "            j -= 1\n",
    "        A[j + 1] = key \n",
    "    return A\n",
    "            "
   ]
  },
  {
   "cell_type": "code",
   "execution_count": 6,
   "id": "b569c837",
   "metadata": {},
   "outputs": [
    {
     "data": {
      "text/plain": [
       "[0, 0, 0, 1, 1, 3, 4, 4, 5, 5, 6, 7, 7, 8, 9]"
      ]
     },
     "execution_count": 6,
     "metadata": {},
     "output_type": "execute_result"
    }
   ],
   "source": [
    "A = [7, 5, 3, 6, 0, 5, 9, 8, 4, 0, 0, 1, 4, 7, 1]\n",
    "insertion_sort(A)"
   ]
  },
  {
   "cell_type": "code",
   "execution_count": null,
   "id": "20c0299c",
   "metadata": {},
   "outputs": [],
   "source": []
  },
  {
   "cell_type": "markdown",
   "id": "d4521389",
   "metadata": {},
   "source": [
    "<div style=\"text-align: center; font-size:33px;\">\n",
    "  Counting Sort\n",
    "\n",
    "</div>\n"
   ]
  },
  {
   "cell_type": "code",
   "execution_count": 7,
   "id": "ba38f6f9",
   "metadata": {},
   "outputs": [],
   "source": [
    "def counting_sort(A): \n",
    "    n = len(A)\n",
    "    m = max(A)\n",
    "    count = [0] * (m + 1)\n",
    "    for i in A:\n",
    "        count[i] += 1\n",
    "    res = []\n",
    "    k = 0\n",
    "    for i in count:\n",
    "        res += [k] * i\n",
    "        k += 1\n",
    "    return res"
   ]
  },
  {
   "cell_type": "code",
   "execution_count": 8,
   "id": "c09b3852",
   "metadata": {},
   "outputs": [
    {
     "data": {
      "text/plain": [
       "[0, 0, 0, 0, 0, 1, 1, 1, 2, 2, 3, 3, 3, 3, 4, 4, 5, 5, 5, 5]"
      ]
     },
     "execution_count": 8,
     "metadata": {},
     "output_type": "execute_result"
    }
   ],
   "source": [
    "A = [3, 0, 1, 3, 3, 5, 0, 1, 4, 3, 2, 5, 5, 0, 5, 4, 2, 0, 0, 1]\n",
    "counting_sort(A)"
   ]
  },
  {
   "cell_type": "code",
   "execution_count": 9,
   "id": "ad19e781",
   "metadata": {},
   "outputs": [
    {
     "data": {
      "text/plain": [
       "[0, 0, 0]"
      ]
     },
     "execution_count": 9,
     "metadata": {},
     "output_type": "execute_result"
    }
   ],
   "source": [
    "arr = [0] * 3\n",
    "arr"
   ]
  },
  {
   "cell_type": "markdown",
   "id": "75c713a6",
   "metadata": {},
   "source": [
    "<div style=\"text-align: center; font-size: 43px;\">\n",
    "  Selection Sort\n",
    "\n",
    "</div>"
   ]
  },
  {
   "cell_type": "code",
   "execution_count": 10,
   "id": "e18f4779",
   "metadata": {},
   "outputs": [],
   "source": [
    "def selection_sort(A):\n",
    "    n = len(A)\n",
    "    for i in range(n):\n",
    "        m_index = i\n",
    "        for j in range(i + 1, n):\n",
    "            if A[m_index] > A[j]:\n",
    "                m_index = j\n",
    "        A[m_index], A[i] = A[i], A[m_index]\n",
    "    return A"
   ]
  },
  {
   "cell_type": "code",
   "execution_count": 11,
   "id": "824e71dc",
   "metadata": {},
   "outputs": [
    {
     "data": {
      "text/plain": [
       "[0, 0, 0, 1, 1, 3, 4, 4, 5, 5, 6, 7, 7, 8, 9]"
      ]
     },
     "execution_count": 11,
     "metadata": {},
     "output_type": "execute_result"
    }
   ],
   "source": [
    "A = [7, 5, 3, 6, 0, 5, 9, 8, 4, 0, 0, 1, 4, 7, 1]\n",
    "selection_sort(A)"
   ]
  },
  {
   "cell_type": "code",
   "execution_count": null,
   "id": "56b670bc",
   "metadata": {},
   "outputs": [],
   "source": []
  },
  {
   "cell_type": "markdown",
   "id": "8de5a33a",
   "metadata": {},
   "source": [
    "<div style=\"text-align: center; font-size: 43px;\">\n",
    "  CPU Time\n",
    "\n",
    "</div>"
   ]
  },
  {
   "cell_type": "code",
   "execution_count": 12,
   "id": "48ba627d",
   "metadata": {},
   "outputs": [
    {
     "data": {
      "text/plain": [
       "2.109375"
      ]
     },
     "execution_count": 12,
     "metadata": {},
     "output_type": "execute_result"
    }
   ],
   "source": [
    "import time\n",
    "def loop(n):\n",
    "    for i in range(n):\n",
    "        A = generate_list(50)\n",
    "        counting_sort(A)\n",
    "    return True\n",
    "start = time.process_time()\n",
    "loop(50_000)\n",
    "end = time.process_time()\n",
    "\n",
    "used_time = end - start\n",
    "used_time\n"
   ]
  }
 ],
 "metadata": {
  "kernelspec": {
   "display_name": "Python 3 (ipykernel)",
   "language": "python",
   "name": "python3"
  },
  "language_info": {
   "codemirror_mode": {
    "name": "ipython",
    "version": 3
   },
   "file_extension": ".py",
   "mimetype": "text/x-python",
   "name": "python",
   "nbconvert_exporter": "python",
   "pygments_lexer": "ipython3",
   "version": "3.10.9"
  }
 },
 "nbformat": 4,
 "nbformat_minor": 5
}
