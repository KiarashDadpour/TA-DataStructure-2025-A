{
 "cells": [
  {
   "cell_type": "code",
   "execution_count": 24,
   "id": "d0e547eb",
   "metadata": {},
   "outputs": [],
   "source": [
    "import random\n",
    "def generate_list(n = 20):\n",
    "    arr = []\n",
    "    for _ in range(n):\n",
    "        arr.append((random.randint(0, 20)))\n",
    "    return arr "
   ]
  },
  {
   "cell_type": "code",
   "execution_count": 25,
   "id": "93b358b2",
   "metadata": {},
   "outputs": [
    {
     "data": {
      "text/plain": [
       "[13, 19, 6, 16, 20, 1, 14, 11, 4, 10, 8, 19, 19, 4, 11, 20, 13, 0, 19, 15]"
      ]
     },
     "execution_count": 25,
     "metadata": {},
     "output_type": "execute_result"
    }
   ],
   "source": [
    "A = generate_list()\n",
    "A"
   ]
  },
  {
   "cell_type": "markdown",
   "id": "1db3200d",
   "metadata": {},
   "source": [
    "<div style=\"text-align: center; font-size: 43px;\">\n",
    "  Bubble Sort\n",
    "\n",
    "</div>\n"
   ]
  },
  {
   "cell_type": "code",
   "execution_count": 26,
   "id": "379ecf98",
   "metadata": {},
   "outputs": [],
   "source": [
    "def bubble_sort(A):\n",
    "    n = len(A)\n",
    "    for i in range(n):\n",
    "        for j in range(0, n - i - 1):\n",
    "            if A[j] > A[j + 1]:\n",
    "                A[j], A[j + 1] = A[j + 1], A[j]\n",
    "    return A"
   ]
  },
  {
   "cell_type": "code",
   "execution_count": 27,
   "id": "f4579c47",
   "metadata": {},
   "outputs": [
    {
     "name": "stdout",
     "output_type": "stream",
     "text": [
      "[6, 2, 16, 13, 16, 13, 10, 0, 15, 13, 10, 1, 0, 17, 7, 19, 13, 7, 4, 12]\n"
     ]
    },
    {
     "data": {
      "text/plain": [
       "[0, 0, 1, 2, 4, 6, 7, 7, 10, 10, 12, 13, 13, 13, 13, 15, 16, 16, 17, 19]"
      ]
     },
     "execution_count": 27,
     "metadata": {},
     "output_type": "execute_result"
    }
   ],
   "source": [
    "A = generate_list()\n",
    "print(A)\n",
    "bubble_sort(A)"
   ]
  },
  {
   "cell_type": "markdown",
   "id": "c7e4e6ff",
   "metadata": {},
   "source": [
    "<div style=\"text-align: center; font-size: 43px;\">\n",
    "  Insertion Sort\n",
    "\n",
    "</div>\n"
   ]
  },
  {
   "cell_type": "code",
   "execution_count": 28,
   "id": "3ef3a864",
   "metadata": {},
   "outputs": [],
   "source": [
    "def insertion_sort(A):\n",
    "    n = len(A)\n",
    "    for i in range(1, n):\n",
    "        key = A[i]\n",
    "        j = i - 1\n",
    "        while j >= 0 and key < A[j]:\n",
    "            A[j + 1] = A[j]\n",
    "            j -= 1\n",
    "        A[j + 1] = key \n",
    "    return A\n",
    "            "
   ]
  },
  {
   "cell_type": "code",
   "execution_count": 29,
   "id": "b569c837",
   "metadata": {},
   "outputs": [
    {
     "name": "stdout",
     "output_type": "stream",
     "text": [
      "[13, 2, 18, 0, 20, 14, 4, 6, 2, 2, 2, 1, 4, 18, 1, 5, 12, 14, 14, 9]\n"
     ]
    },
    {
     "data": {
      "text/plain": [
       "[0, 1, 1, 2, 2, 2, 2, 4, 4, 5, 6, 9, 12, 13, 14, 14, 14, 18, 18, 20]"
      ]
     },
     "execution_count": 29,
     "metadata": {},
     "output_type": "execute_result"
    }
   ],
   "source": [
    "A = generate_list()\n",
    "print(A)\n",
    "insertion_sort(A)"
   ]
  },
  {
   "cell_type": "markdown",
   "id": "d4521389",
   "metadata": {},
   "source": [
    "<div style=\"text-align: center; font-size:33px;\">\n",
    "  Counting Sort\n",
    "\n",
    "</div>\n"
   ]
  },
  {
   "cell_type": "code",
   "execution_count": 30,
   "id": "ba38f6f9",
   "metadata": {},
   "outputs": [],
   "source": [
    "def counting_sort(A): \n",
    "    n = len(A)\n",
    "    m = max(A)\n",
    "    count = [0] * (m + 1)\n",
    "    for i in A:\n",
    "        count[i] += 1\n",
    "    res = []\n",
    "    k = 0\n",
    "    for i in count:\n",
    "        res += [k] * i\n",
    "        k += 1\n",
    "    return res"
   ]
  },
  {
   "cell_type": "code",
   "execution_count": 31,
   "id": "c09b3852",
   "metadata": {},
   "outputs": [
    {
     "name": "stdout",
     "output_type": "stream",
     "text": [
      "[20, 3, 3, 6, 16, 7, 20, 19, 1, 1, 4, 1, 2, 6, 1, 13, 11, 5, 9, 10]\n"
     ]
    },
    {
     "data": {
      "text/plain": [
       "[1, 1, 1, 1, 2, 3, 3, 4, 5, 6, 6, 7, 9, 10, 11, 13, 16, 19, 20, 20]"
      ]
     },
     "execution_count": 31,
     "metadata": {},
     "output_type": "execute_result"
    }
   ],
   "source": [
    "A = generate_list()\n",
    "print(A)\n",
    "counting_sort(A)"
   ]
  },
  {
   "cell_type": "code",
   "execution_count": 32,
   "id": "ad19e781",
   "metadata": {},
   "outputs": [
    {
     "data": {
      "text/plain": [
       "[0, 0, 0]"
      ]
     },
     "execution_count": 32,
     "metadata": {},
     "output_type": "execute_result"
    }
   ],
   "source": [
    "arr = [0] * 3\n",
    "arr"
   ]
  },
  {
   "cell_type": "markdown",
   "id": "75c713a6",
   "metadata": {},
   "source": [
    "<div style=\"text-align: center; font-size: 43px;\">\n",
    "  Selection Sort\n",
    "\n",
    "</div>"
   ]
  },
  {
   "cell_type": "code",
   "execution_count": 33,
   "id": "e18f4779",
   "metadata": {},
   "outputs": [],
   "source": [
    "def selection_sort(A):\n",
    "    n = len(A)\n",
    "    for i in range(n):\n",
    "        m_index = i\n",
    "        for j in range(i + 1, n):\n",
    "            if A[m_index] > A[j]:\n",
    "                m_index = j\n",
    "        A[m_index], A[i] = A[i], A[m_index]\n",
    "    return A"
   ]
  },
  {
   "cell_type": "code",
   "execution_count": 34,
   "id": "824e71dc",
   "metadata": {},
   "outputs": [
    {
     "name": "stdout",
     "output_type": "stream",
     "text": [
      "[10, 17, 7, 16, 1, 10, 0, 20, 15, 12, 7, 4, 3, 15, 7, 20, 13, 12, 18, 1]\n"
     ]
    },
    {
     "data": {
      "text/plain": [
       "[0, 1, 1, 3, 4, 7, 7, 7, 10, 10, 12, 12, 13, 15, 15, 16, 17, 18, 20, 20]"
      ]
     },
     "execution_count": 34,
     "metadata": {},
     "output_type": "execute_result"
    }
   ],
   "source": [
    "A = generate_list()\n",
    "print(A)\n",
    "selection_sort(A)"
   ]
  },
  {
   "cell_type": "markdown",
   "id": "98e4af6a",
   "metadata": {},
   "source": [
    "<div style=\"text-align: center; font-size: 43px;\">\n",
    "  Merge Sort\n",
    "\n",
    "</div>"
   ]
  },
  {
   "cell_type": "code",
   "execution_count": 35,
   "id": "56b670bc",
   "metadata": {},
   "outputs": [],
   "source": [
    "def merge_sort(A):\n",
    "    if len(A) <= 1:\n",
    "        return A  \n",
    "    \n",
    "    mid = len(A) // 2\n",
    "    left_half = merge_sort(A[:mid])\n",
    "    right_half = merge_sort(A[mid:])\n",
    "    \n",
    "    return merge(left_half, right_half)\n",
    "\n",
    "def merge(left, right):\n",
    "    sorted_array = []\n",
    "    i = j = 0\n",
    "    \n",
    "    while i < len(left) and j < len(right):\n",
    "        if left[i] < right[j]:\n",
    "            sorted_array.append(left[i])\n",
    "            i += 1\n",
    "        else:\n",
    "            sorted_array.append(right[j])\n",
    "            j += 1\n",
    "    \n",
    "    sorted_array.extend(left[i:])\n",
    "    sorted_array.extend(right[j:])\n",
    "    \n",
    "    return sorted_array "
   ]
  },
  {
   "cell_type": "code",
   "execution_count": 36,
   "id": "d8481c58",
   "metadata": {},
   "outputs": [
    {
     "name": "stdout",
     "output_type": "stream",
     "text": [
      "[7, 5, 15, 14, 5, 11, 2, 14, 9, 10, 2, 7, 10, 5, 7, 9, 4, 16, 20, 3]\n"
     ]
    },
    {
     "data": {
      "text/plain": [
       "[2, 2, 3, 4, 5, 5, 5, 7, 7, 7, 9, 9, 10, 10, 11, 14, 14, 15, 16, 20]"
      ]
     },
     "execution_count": 36,
     "metadata": {},
     "output_type": "execute_result"
    }
   ],
   "source": [
    "A = generate_list()\n",
    "print(A)\n",
    "merge_sort(A)"
   ]
  },
  {
   "cell_type": "markdown",
   "id": "95d8c4a9",
   "metadata": {},
   "source": [
    "<div style=\"text-align: center; font-size: 43px;\">\n",
    "  Quick Sort\n",
    "\n",
    "</div>"
   ]
  },
  {
   "cell_type": "code",
   "execution_count": 40,
   "id": "c58f8aa3",
   "metadata": {},
   "outputs": [],
   "source": [
    "def quick_sort(A):\n",
    "    if len(A) <= 1:\n",
    "        return A  \n",
    "\n",
    "    pivot = A[-1]  \n",
    "    left = []\n",
    "    middle = []\n",
    "    right = [] \n",
    "\n",
    "    for num in A:\n",
    "        if num < pivot:\n",
    "            left.append(num)\n",
    "        elif num > pivot:\n",
    "            right.append(num)\n",
    "        else:\n",
    "            middle.append(num)\n",
    "\n",
    "    return quick_sort(left) + middle + quick_sort(right)"
   ]
  },
  {
   "cell_type": "code",
   "execution_count": 41,
   "id": "a23cf3c8",
   "metadata": {},
   "outputs": [
    {
     "name": "stdout",
     "output_type": "stream",
     "text": [
      "[19, 14, 7, 19, 17, 5, 20, 11, 19, 1, 3, 5, 19, 19, 20, 3, 15, 14, 11, 16]\n"
     ]
    },
    {
     "data": {
      "text/plain": [
       "[1, 3, 3, 5, 5, 7, 11, 11, 14, 14, 15, 16, 17, 19, 19, 19, 19, 19, 20, 20]"
      ]
     },
     "execution_count": 41,
     "metadata": {},
     "output_type": "execute_result"
    }
   ],
   "source": [
    "A = generate_list()\n",
    "print(A)\n",
    "quick_sort(A)"
   ]
  },
  {
   "cell_type": "markdown",
   "id": "8de5a33a",
   "metadata": {},
   "source": [
    "<div style=\"text-align: center; font-size: 43px;\">\n",
    "  CPU Time\n",
    "\n",
    "</div>"
   ]
  },
  {
   "cell_type": "code",
   "execution_count": 39,
   "id": "48ba627d",
   "metadata": {},
   "outputs": [
    {
     "data": {
      "text/plain": [
       "1.96875"
      ]
     },
     "execution_count": 39,
     "metadata": {},
     "output_type": "execute_result"
    }
   ],
   "source": [
    "import time\n",
    "def loop(n):\n",
    "    for i in range(n):\n",
    "        A = generate_list(50)\n",
    "        counting_sort(A)\n",
    "    return True\n",
    "start = time.process_time()\n",
    "loop(50_000)\n",
    "end = time.process_time()\n",
    "\n",
    "used_time = end - start\n",
    "used_time\n"
   ]
  }
 ],
 "metadata": {
  "kernelspec": {
   "display_name": "base",
   "language": "python",
   "name": "python3"
  },
  "language_info": {
   "codemirror_mode": {
    "name": "ipython",
    "version": 3
   },
   "file_extension": ".py",
   "mimetype": "text/x-python",
   "name": "python",
   "nbconvert_exporter": "python",
   "pygments_lexer": "ipython3",
   "version": "3.12.7"
  }
 },
 "nbformat": 4,
 "nbformat_minor": 5
}
